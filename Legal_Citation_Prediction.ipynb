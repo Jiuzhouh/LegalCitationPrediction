{
  "nbformat": 4,
  "nbformat_minor": 0,
  "metadata": {
    "colab": {
      "provenance": []
    },
    "kernelspec": {
      "name": "python3",
      "display_name": "Python 3"
    },
    "language_info": {
      "name": "python"
    }
  },
  "cells": [
    {
      "cell_type": "markdown",
      "source": [
        "# Read Before Use:\n",
        "\n",
        "The annotation used in this notebook matches those used in Table 1 of the paper.\n",
        "\n",
        "Note in the current notebook we only illustrate some of the configurations but give you the instructions how to reproduce the other bits as well. For instance, the notebook is only showing how to use auslaw embedding to construct the RAG database for retrieval experiements. If you want to use OpenAI embedding, do the following three steps:\n",
        "1. Import the library and set up the function:\n",
        "```\n",
        "import chromadb.utils.embedding_functions as embedding_functions\n",
        "openai_ef = embedding_functions.OpenAIEmbeddingFunction(\n",
        "                api_key=\"<YOUR API KEY>\",\n",
        "                model_name=\"text-embedding-3-large\"\n",
        "            )\n",
        "```\n",
        "2. Add `embedding_function=openai_ef` in every `get_collection` fuction you see, for example:\n",
        "`client.get_collection('casetext', embedding_function=openai_ef)`\n",
        "\n",
        "3. No need to pass any embeddings manually. Comment out the line containing embeddings, for example:\n",
        "```\n",
        "casetext_collection.upsert(\n",
        "    documents = text,\n",
        "    # embeddings = text_embeddings,\n",
        "    metadatas = meta_data_text,\n",
        "    ids = citation\n",
        ")\n",
        "rag_output_casetext = client.get_collection('casetext').query(\n",
        "    # query_embeddings=test_data_rag_input_text_only_embeddings,\n",
        "    n_results=5,\n",
        ")\n",
        "```\n",
        "\n",
        "Also, the LLM used throughout this notebook is GPT4o. In order to load other LLMs, change `gpt4o_prompt` fuction to other LLM APIs.\n"
      ],
      "metadata": {
        "id": "rroWxVbyvMam"
      }
    },
    {
      "cell_type": "code",
      "execution_count": null,
      "metadata": {
        "id": "IDCuJb5R5khI"
      },
      "outputs": [],
      "source": [
        "!pip install chromadb\n",
        "!pip install -U sentence-transformers"
      ]
    },
    {
      "cell_type": "code",
      "source": [
        "from openai import OpenAI\n",
        "openai_client = OpenAI(\n",
        "    api_key=\"<YOUR API KEY>\",\n",
        ")\n",
        "\n",
        "def gpt4o_prompt(sys_content, content):\n",
        "    got_result = False\n",
        "    while not got_result:\n",
        "        try:\n",
        "            response = openai_client.chat.completions.create(\n",
        "              model=\"gpt-4o\",\n",
        "              messages = [{\"role\": \"system\", \"content\": sys_content}, {\"role\": \"user\", \"content\": content}],\n",
        "              temperature=0,\n",
        "            )\n",
        "            got_result = True\n",
        "        except Exception:\n",
        "            time.sleep(1)\n",
        "\n",
        "    prompt_cost = (response.usage.prompt_tokens / 1000000) * 2.5\n",
        "    completion_cost = (response.usage.completion_tokens / 1000000) * 10\n",
        "\n",
        "    total_cost = prompt_cost + completion_cost\n",
        "    # print(f\"Total cost for gpt-4o: ${total_cost:.4f}\\n\")\n",
        "    return response.choices[0].message.content.strip(), total_cost\n",
        "\n",
        "def gpt4o_mini_prompt(sys_content, content):\n",
        "    got_result = False\n",
        "    while not got_result:\n",
        "        try:\n",
        "            response = openai_client.chat.completions.create(\n",
        "              model=\"gpt-4o-mini\",\n",
        "              messages = [{\"role\": \"system\", \"content\": sys_content}, {\"role\": \"user\", \"content\": content}],\n",
        "              temperature=0,\n",
        "            )\n",
        "            got_result = True\n",
        "        except Exception:\n",
        "            time.sleep(1)\n",
        "\n",
        "    prompt_cost = (response.usage.prompt_tokens / 1000000) * 0.15\n",
        "    completion_cost = (response.usage.completion_tokens / 1000000) * 0.6\n",
        "\n",
        "    total_cost = prompt_cost + completion_cost\n",
        "    # print(f\"Total cost for gpt-4o-mini: ${total_cost:.4f}\\n\")\n",
        "    return response.choices[0].message.content.strip(), total_cost"
      ],
      "metadata": {
        "id": "10G1W8uOtbBd"
      },
      "execution_count": null,
      "outputs": []
    },
    {
      "cell_type": "code",
      "source": [
        "from sentence_transformers import SentenceTransformer\n",
        "sentences = [\"This is an example sentence\", \"Each sentence is converted\"]\n",
        "\n",
        "model = SentenceTransformer('adlumal/auslaw-embed-v1.0')\n",
        "embeddings = model.encode(sentences)\n"
      ],
      "metadata": {
        "id": "tYLPvudtWync"
      },
      "execution_count": null,
      "outputs": []
    },
    {
      "cell_type": "code",
      "source": [
        "import json\n",
        "import pickle\n",
        "import chromadb\n",
        "from tqdm import tqdm\n",
        "import numpy as np"
      ],
      "metadata": {
        "id": "B5OWiytAWzab"
      },
      "execution_count": null,
      "outputs": []
    },
    {
      "cell_type": "code",
      "source": [
        "with open('/content/citation_data_test_original.json', 'r') as f:\n",
        "    test_set = json.load(f)"
      ],
      "metadata": {
        "id": "VSYmsLMoibve"
      },
      "execution_count": null,
      "outputs": []
    },
    {
      "cell_type": "code",
      "source": [
        "with open('/content/citation_data_combined_index_by_casename_test_only.json', 'r') as f:\n",
        "    citation_data = json.load(f)"
      ],
      "metadata": {
        "id": "6ZlSZMkqaH7n"
      },
      "execution_count": null,
      "outputs": []
    },
    {
      "cell_type": "markdown",
      "source": [
        "# **LLM-only Approach**"
      ],
      "metadata": {
        "id": "S_sXiBVfoca3"
      }
    },
    {
      "cell_type": "code",
      "source": [
        "test_data_for_gpt_4o = []\n",
        "for i in tqdm(range(len(test_set))):\n",
        "    data = {}\n",
        "    data['instruction'] = \"The following description belongs to a case in the NSW Case Law. You will be given a brief text, and a brief description of a potential citation required. Your task is to predict the citation by listing up-to 5 potential citations, spearated by ';'.\"\n",
        "    data['input'] = 'Text: ' + test_set[i]['citation_text'].replace(test_set[i]['cited_case_name'], '<CASENAME>') + '\\nDescription: ' + test_set[i]['citation_reason'].replace(test_set[i]['cited_case_name'], '<CASENAME>')\n",
        "    data['output'] = test_set[i]['cited_case_name']\n",
        "    response, _ = gpt4o_prompt(data['instruction'], data['input'])\n",
        "    data['predicted'] = response\n",
        "    test_data_for_gpt_4o.append(data)"
      ],
      "metadata": {
        "id": "_8GL6RMfocGO"
      },
      "execution_count": null,
      "outputs": []
    },
    {
      "cell_type": "markdown",
      "source": [
        "# **Retrieval-only Approach**"
      ],
      "metadata": {
        "id": "QDpw5m4JozpK"
      }
    },
    {
      "cell_type": "code",
      "source": [
        "embeddings = {}"
      ],
      "metadata": {
        "id": "OclOK9_ravIL"
      },
      "execution_count": null,
      "outputs": []
    },
    {
      "cell_type": "code",
      "source": [
        "len(citation_data)"
      ],
      "metadata": {
        "id": "-3th02G0ccvp"
      },
      "execution_count": null,
      "outputs": []
    },
    {
      "cell_type": "code",
      "source": [
        "for i in tqdm(range(len(citation_data))):\n",
        "    citation_reasons = ';'.join(citation_data[i]['citation_reasons'])\n",
        "    embeddings[citation_reasons] = model.encode(citation_reasons)\n",
        "\n",
        "    catchwords = citation_data[i]['catchwords']\n",
        "    embeddings[catchwords] = model.encode(catchwords)\n",
        "\n",
        "    casetext = citation_data[i]['text']\n",
        "    embeddings[casetext] = model.encode(casetext)"
      ],
      "metadata": {
        "id": "8mnVdoOMXV0A"
      },
      "execution_count": null,
      "outputs": []
    },
    {
      "cell_type": "code",
      "source": [
        "for i in tqdm(range(len(test_set))):\n",
        "    test_data_rag_input_text_only = test_set[i]['citation_text'].replace(test_set[i]['cited_case_name'], '<CASENAME>')\n",
        "    embeddings[test_data_rag_input_text_only] = model.encode(test_data_rag_input_text_only)\n",
        "\n",
        "    test_data_rag_input_text_reason = test_set[i]['citation_text'].replace(test_set[i]['cited_case_name'], '<CASENAME>') + ' ' + test_set[i]['citation_reason'].replace(test_set[i]['cited_case_name'], '<CASENAME>')\n",
        "    embeddings[test_data_rag_input_text_reason] = model.encode(test_data_rag_input_text_reason)"
      ],
      "metadata": {
        "id": "asqksaRQe9Sl"
      },
      "execution_count": null,
      "outputs": []
    },
    {
      "cell_type": "code",
      "source": [
        "with open(\"auslaw_embeddings.pkl\", \"wb\") as f:\n",
        "    pickle.dump(embeddings, f)"
      ],
      "metadata": {
        "id": "QPpUaX-2bfHv"
      },
      "execution_count": null,
      "outputs": []
    },
    {
      "cell_type": "code",
      "source": [
        "saved_embeddings = embeddings"
      ],
      "metadata": {
        "id": "83ipEiNWwxzv"
      },
      "execution_count": null,
      "outputs": []
    },
    {
      "cell_type": "code",
      "source": [
        "# with open(\"/content/auslaw_embeddings.pkl\", \"rb\") as f:\n",
        "#     saved_embeddings = pickle.load(f)"
      ],
      "metadata": {
        "id": "DXyrtUooq9N_"
      },
      "execution_count": null,
      "outputs": []
    },
    {
      "cell_type": "code",
      "source": [
        "client = chromadb.PersistentClient(path=\"db\")"
      ],
      "metadata": {
        "id": "eoHck8jZfob3"
      },
      "execution_count": null,
      "outputs": []
    },
    {
      "cell_type": "code",
      "source": [
        "casetext = client.create_collection(\"casetext\")\n",
        "catchwords = client.create_collection(\"catchwords\")\n",
        "citation_reasons = client.create_collection(\"citation_reasons\")"
      ],
      "metadata": {
        "id": "-bLawGwMdXQT"
      },
      "execution_count": null,
      "outputs": []
    },
    {
      "cell_type": "code",
      "source": [
        "citation = []\n",
        "text = []\n",
        "catchwords = []\n",
        "citation_reasons = []\n",
        "meta_data_catchwords = []\n",
        "meta_data_text = []\n",
        "meta_data_citation_reasons = []\n",
        "\n",
        "text_embeddings = []\n",
        "catchwords_embeddings = []\n",
        "citation_reasons_embeddings = []\n",
        "\n",
        "for data in tqdm(citation_data):\n",
        "    citation.append(data['citation'])\n",
        "    catchwords.append(data['catchwords'])\n",
        "    text.append(data['text'])\n",
        "\n",
        "    citation_reasons_ = ';'.join(data['citation_reasons'])\n",
        "    citation_reasons.append(citation_reasons_)\n",
        "\n",
        "    text_embeddings.append(saved_embeddings[data['text']])\n",
        "    catchwords_embeddings.append(saved_embeddings[data['catchwords']])\n",
        "    citation_reasons_embeddings.append(saved_embeddings[citation_reasons_])\n",
        "\n",
        "    meta_data_catchwords.append({data['citation']:data['catchwords']})\n",
        "    meta_data_text.append({data['citation']:data['text']})\n",
        "    meta_data_citation_reasons.append({data['citation']:citation_reasons_})"
      ],
      "metadata": {
        "id": "No6DShEwnmTQ"
      },
      "execution_count": null,
      "outputs": []
    },
    {
      "cell_type": "code",
      "source": [
        "catchwords_collection = client.get_collection('catchwords')\n",
        "catchwords_collection.upsert(\n",
        "    documents = catchwords,\n",
        "    embeddings = catchwords_embeddings,\n",
        "    metadatas = meta_data_catchwords,\n",
        "    ids = citation\n",
        ")"
      ],
      "metadata": {
        "id": "Lg1MhDVpn14T"
      },
      "execution_count": null,
      "outputs": []
    },
    {
      "cell_type": "code",
      "source": [
        "citation_reasons_collection = client.get_collection('citation_reasons')\n",
        "citation_reasons_collection.upsert(\n",
        "    documents = citation_reasons,\n",
        "    embeddings = citation_reasons_embeddings,\n",
        "    metadatas = meta_data_citation_reasons,\n",
        "    ids = citation\n",
        ")"
      ],
      "metadata": {
        "id": "-aUu4hSrrX0v"
      },
      "execution_count": null,
      "outputs": []
    },
    {
      "cell_type": "code",
      "source": [
        "casetext_collection = client.get_collection('casetext')\n",
        "casetext_collection.upsert(\n",
        "    documents = text,\n",
        "    embeddings = text_embeddings,\n",
        "    metadatas = meta_data_text,\n",
        "    ids = citation\n",
        ")"
      ],
      "metadata": {
        "id": "KdYzVv4lrkBc"
      },
      "execution_count": null,
      "outputs": []
    },
    {
      "cell_type": "code",
      "source": [
        "test_data_rag_input_text_only_embeddings = []\n",
        "test_data_rag_input_text_reason_embeddings = []\n",
        "gold_citation = []\n",
        "\n",
        "for i in tqdm(range(len(test_set))):\n",
        "    gold_citation.append(test_set[i]['cited_case_name'])\n",
        "\n",
        "    test_data_rag_input_text_only = test_set[i]['citation_text'].replace(test_set[i]['cited_case_name'], '<CASENAME>')\n",
        "    test_data_rag_input_text_only_embeddings.append(saved_embeddings[test_data_rag_input_text_only])\n",
        "\n",
        "    test_data_rag_input_text_reason = test_set[i]['citation_text'].replace(test_set[i]['cited_case_name'], '<CASENAME>') + ' ' + test_set[i]['citation_reason'].replace(test_set[i]['cited_case_name'], '<CASENAME>')\n",
        "    test_data_rag_input_text_reason_embeddings.append(saved_embeddings[test_data_rag_input_text_reason])"
      ],
      "metadata": {
        "id": "pfiyHmH-rqca"
      },
      "execution_count": null,
      "outputs": []
    },
    {
      "cell_type": "code",
      "source": [
        "def cal_acc(preds, gold_labels):\n",
        "    acc_at_1 = 0\n",
        "    acc_at_5 = 0\n",
        "    for i in range(len(gold_labels)):\n",
        "        if gold_labels[i] in preds[i]:\n",
        "            acc_at_5 += 1\n",
        "        if gold_labels[i] in preds[i][0]:\n",
        "            acc_at_1 += 1\n",
        "    print(\"Acc@1: \", acc_at_1/len(gold_labels))\n",
        "    print(\"Acc@5: \", acc_at_5/len(gold_labels))\n",
        "\n",
        "def cal_acc_1(preds, gold_labels):\n",
        "    acc_at_1 = 0\n",
        "    for i in range(len(gold_labels)):\n",
        "        if gold_labels[i] in preds[i]:\n",
        "            acc_at_1 += 1\n",
        "    print(\"Acc@1: \", acc_at_1/len(gold_labels))"
      ],
      "metadata": {
        "id": "qagIg8O7sbfk"
      },
      "execution_count": null,
      "outputs": []
    },
    {
      "cell_type": "markdown",
      "source": [
        "***Catchwords***"
      ],
      "metadata": {
        "id": "8CCpZ_WhsUGM"
      }
    },
    {
      "cell_type": "code",
      "source": [
        "rag_output_catchwords = client.get_collection('catchwords').query(\n",
        "    query_embeddings=test_data_rag_input_text_only_embeddings,\n",
        "    n_results=5,\n",
        ")"
      ],
      "metadata": {
        "id": "BuDKfXWMsVZt"
      },
      "execution_count": null,
      "outputs": []
    },
    {
      "cell_type": "code",
      "source": [
        "with open(\"auslaw_rag_output_catchwords_top5_citation.json\", \"w\") as file:\n",
        "    json.dump(rag_output_catchwords['ids'], file)"
      ],
      "metadata": {
        "id": "ljSS2wYAj7Gj"
      },
      "execution_count": null,
      "outputs": []
    },
    {
      "cell_type": "code",
      "source": [
        "cal_acc(rag_output_catchwords['ids'], gold_citation)"
      ],
      "metadata": {
        "id": "dODchX_VsmuI"
      },
      "execution_count": null,
      "outputs": []
    },
    {
      "cell_type": "markdown",
      "source": [
        "***RoC Aggregations***"
      ],
      "metadata": {
        "id": "vNKq5OVzq0im"
      }
    },
    {
      "cell_type": "code",
      "source": [
        "rag_output_citation_reasons = client.get_collection('citation_reasons').query(\n",
        "    query_embeddings=test_data_rag_input_text_only_embeddings,\n",
        "    n_results=5,\n",
        ")"
      ],
      "metadata": {
        "id": "FInXa-4otCH9"
      },
      "execution_count": null,
      "outputs": []
    },
    {
      "cell_type": "code",
      "source": [
        "cal_acc(rag_output_citation_reasons['ids'], gold_citation)"
      ],
      "metadata": {
        "id": "UsWonixctJ_q"
      },
      "execution_count": null,
      "outputs": []
    },
    {
      "cell_type": "markdown",
      "source": [
        "***Full Cases***"
      ],
      "metadata": {
        "id": "XR5AnDgkpZ0t"
      }
    },
    {
      "cell_type": "code",
      "source": [
        "rag_output_casetext = client.get_collection('casetext').query(\n",
        "    query_embeddings=test_data_rag_input_text_only_embeddings,\n",
        "    n_results=5,\n",
        ")"
      ],
      "metadata": {
        "id": "bXnuUNgDtONY"
      },
      "execution_count": null,
      "outputs": []
    },
    {
      "cell_type": "code",
      "source": [
        "with open(\"auslaw_rag_output_casetext_top5_citation.json\", \"w\") as file:\n",
        "    json.dump(rag_output_casetext['ids'], file)"
      ],
      "metadata": {
        "id": "Xu3ozZ-rkk8e"
      },
      "execution_count": null,
      "outputs": []
    },
    {
      "cell_type": "code",
      "source": [
        "cal_acc(rag_output_casetext['ids'], gold_citation)"
      ],
      "metadata": {
        "id": "prwxoA9GtUGg"
      },
      "execution_count": null,
      "outputs": []
    },
    {
      "cell_type": "markdown",
      "source": [
        "# **(Hybrid Approach) Query Expansion**"
      ],
      "metadata": {
        "id": "nWNUj5burSa9"
      }
    },
    {
      "cell_type": "code",
      "source": [
        "test_data_gpt_4o_generated_reason = []\n",
        "with open('/content/test_data_gpt_4o_generated_reason.jsonl', 'r') as f:\n",
        "    for line in f.readlines():\n",
        "        line = json.loads(line.strip())\n",
        "        test_data_gpt_4o_generated_reason.append(line)"
      ],
      "metadata": {
        "id": "v8qp6Osftz5L"
      },
      "execution_count": null,
      "outputs": []
    },
    {
      "cell_type": "code",
      "source": [
        "test_data_saul_54b_generated_reason = []\n",
        "with open('/content/saul_54b_test_citation_reason_pred.jsonl', 'r') as f:\n",
        "    for line in f.readlines():\n",
        "        line = json.loads(line.strip())\n",
        "        test_data_saul_54b_generated_reason.append(line)"
      ],
      "metadata": {
        "id": "537yXCSMjPGF"
      },
      "execution_count": null,
      "outputs": []
    },
    {
      "cell_type": "code",
      "source": [
        "test_data_rag_input_text_generated_reason = []\n",
        "for data in test_data_gpt_4o_generated_reason[0]:\n",
        "    test_data_rag_input_text_generated_reason.append(data['input'].split('Text: ')[1] + ' ' + data['predicted'].split('Citation Reason: ')[1])"
      ],
      "metadata": {
        "id": "FADrSHET5Qk8"
      },
      "execution_count": null,
      "outputs": []
    },
    {
      "cell_type": "code",
      "source": [
        "test_data_rag_input_text_saul_54b_generated_reason = []\n",
        "for data in test_data_saul_54b_generated_reason:\n",
        "    try:\n",
        "        test_data_rag_input_text_saul_54b_generated_reason.append(data['input'].split('Text: ')[1] + ' ' + data['predicted'].split('Citation Reason: ')[1])\n",
        "    except:\n",
        "        test_data_rag_input_text_saul_54b_generated_reason.append(data['input'].split('Text: ')[1] + ' ' + data['predicted'])"
      ],
      "metadata": {
        "id": "YoAcU_YVjNZ0"
      },
      "execution_count": null,
      "outputs": []
    },
    {
      "cell_type": "code",
      "source": [
        "test_data_rag_input_text_generated_reason_embeddings = []\n",
        "\n",
        "for i in tqdm(range(len(test_data_rag_input_text_generated_reason))):\n",
        "    test_data_rag_input_text_generated_reason_embeddings.append(model.encode(test_data_rag_input_text_generated_reason[i]))"
      ],
      "metadata": {
        "id": "kr7er4jJ6OSJ"
      },
      "execution_count": null,
      "outputs": []
    },
    {
      "cell_type": "code",
      "source": [
        "test_data_rag_input_text_saul_54b_generated_reason_embeddings = []\n",
        "\n",
        "for i in tqdm(range(len(test_data_rag_input_text_saul_54b_generated_reason))):\n",
        "    test_data_rag_input_text_saul_54b_generated_reason_embeddings.append(model.encode(test_data_rag_input_text_saul_54b_generated_reason[i]))"
      ],
      "metadata": {
        "id": "PpsZL7TGjTsQ"
      },
      "execution_count": null,
      "outputs": []
    },
    {
      "cell_type": "markdown",
      "source": [
        "***Catchwords (RoC generated by Saul 54B)***"
      ],
      "metadata": {
        "id": "MYAAH8V-ru08"
      }
    },
    {
      "cell_type": "code",
      "source": [
        "rag_output_catchwords2 = client.get_collection('catchwords').query(\n",
        "    query_embeddings=test_data_rag_input_text_saul_54b_generated_reason_embeddings,\n",
        "    n_results=5,\n",
        ")"
      ],
      "metadata": {
        "id": "B2rEANmu6bNE"
      },
      "execution_count": null,
      "outputs": []
    },
    {
      "cell_type": "code",
      "source": [
        "cal_acc(rag_output_catchwords2['ids'], gold_citation)"
      ],
      "metadata": {
        "id": "nyP7PS1v6jHv"
      },
      "execution_count": null,
      "outputs": []
    },
    {
      "cell_type": "markdown",
      "source": [
        "***RoC Aggregations (RoC generated by Saul 54B)***"
      ],
      "metadata": {
        "id": "UkWm_-5vrpbR"
      }
    },
    {
      "cell_type": "code",
      "source": [
        "rag_output_citation_reasons2 = client.get_collection('citation_reasons').query(\n",
        "    query_embeddings=test_data_rag_input_text_saul_54b_generated_reason_embeddings,\n",
        "    n_results=5,\n",
        ")"
      ],
      "metadata": {
        "id": "wIPeHEYA6lMq"
      },
      "execution_count": null,
      "outputs": []
    },
    {
      "cell_type": "code",
      "source": [
        "cal_acc(rag_output_citation_reasons2['ids'], gold_citation)"
      ],
      "metadata": {
        "id": "u1nJNMna6rE2"
      },
      "execution_count": null,
      "outputs": []
    },
    {
      "cell_type": "markdown",
      "source": [
        "***Full Cases (RoC generated by Saul 54B)***"
      ],
      "metadata": {
        "id": "Fx9ru0PKrmSh"
      }
    },
    {
      "cell_type": "code",
      "source": [
        "rag_output_casetext2 = client.get_collection('casetext').query(\n",
        "    query_embeddings=test_data_rag_input_text_saul_54b_generated_reason_embeddings,\n",
        "    n_results=5,\n",
        ")"
      ],
      "metadata": {
        "id": "Ocd6UJ0C6w5C"
      },
      "execution_count": null,
      "outputs": []
    },
    {
      "cell_type": "code",
      "source": [
        "cal_acc(rag_output_casetext2['ids'], gold_citation)"
      ],
      "metadata": {
        "id": "nNGi84ki6zsy"
      },
      "execution_count": null,
      "outputs": []
    },
    {
      "cell_type": "code",
      "source": [
        "citation_pred_test_llama = []\n",
        "with open('/content/citation_pred_test_10e.jsonl', 'r') as f:\n",
        "    for line in f.readlines():\n",
        "        line = json.loads(line.strip())\n",
        "        citation_pred_test_llama.append(line)\n"
      ],
      "metadata": {
        "id": "p70SbBVO-sea"
      },
      "execution_count": null,
      "outputs": []
    },
    {
      "cell_type": "code",
      "source": [
        "citation_pred_test_saul = []\n",
        "with open('/content/citation_pred_test_saul_7b.jsonl', 'r') as f:\n",
        "    for line in f.readlines():\n",
        "        line = json.loads(line.strip())\n",
        "        citation_pred_test_saul.append(line)\n"
      ],
      "metadata": {
        "id": "PclhutH-cfjz"
      },
      "execution_count": null,
      "outputs": []
    },
    {
      "cell_type": "code",
      "source": [
        "citation_pred_test_llama[0]"
      ],
      "metadata": {
        "id": "rgLnU9QmqcTS"
      },
      "execution_count": null,
      "outputs": []
    },
    {
      "cell_type": "code",
      "source": [
        "llama_pred_citation = []\n",
        "llama_pred_citation_reason = []\n",
        "for i in range(len(citation_pred_test_llama)):\n",
        "    llama_pred_citation.append(citation_pred_test_llama[i]['predicted'].split('<')[1].split('>')[0].strip())\n",
        "    llama_pred_citation_reason.append(citation_pred_test_llama[i]['predicted'].split('<')[0].strip().replace(citation_pred_test_llama[i]['predicted'].split('<')[1].split('>')[0].strip(), ''))"
      ],
      "metadata": {
        "id": "-Exaq-acqoda"
      },
      "execution_count": null,
      "outputs": []
    },
    {
      "cell_type": "code",
      "source": [
        "saul_pred_citation = []\n",
        "saul_pred_citation_reason = []\n",
        "for i in range(len(citation_pred_test_saul)):\n",
        "    saul_pred_citation.append(citation_pred_test_saul[i]['predicted'].split('<')[1].split('>')[0].strip())\n",
        "    saul_pred_citation_reason.append(citation_pred_test_saul[i]['predicted'].split('<')[0].strip().replace(citation_pred_test_saul[i]['predicted'].split('<')[1].split('>')[0].strip(), ''))"
      ],
      "metadata": {
        "id": "CcB9eYmoc2Lj"
      },
      "execution_count": null,
      "outputs": []
    },
    {
      "cell_type": "code",
      "source": [
        "test_data_rag_input_text_llama_generated_reason_embeddings = []\n",
        "\n",
        "for i in tqdm(range(len(llama_pred_citation_reason))):\n",
        "    test_data_rag_input_text_llama_generated_reason_embeddings.append(model.encode(citation_pred_test_llama[i]['input']+ ' ' + llama_pred_citation_reason[i]))"
      ],
      "metadata": {
        "id": "dzXlTIbXqF47"
      },
      "execution_count": null,
      "outputs": []
    },
    {
      "cell_type": "code",
      "source": [
        "test_data_rag_input_text_saul_generated_reason_embeddings = []\n",
        "\n",
        "for i in tqdm(range(len(saul_pred_citation_reason))):\n",
        "    test_data_rag_input_text_saul_generated_reason_embeddings.append(model.encode(citation_pred_test_saul[i]['input']+ ' ' + saul_pred_citation_reason[i]))"
      ],
      "metadata": {
        "id": "1MIIKp7UdBUq"
      },
      "execution_count": null,
      "outputs": []
    },
    {
      "cell_type": "markdown",
      "source": [
        "***Catchwords (RoC generated by our SFT Saul-7B)***"
      ],
      "metadata": {
        "id": "PJrXvEvmsadJ"
      }
    },
    {
      "cell_type": "code",
      "source": [
        "rag_output_catchwords4 = client.get_collection('catchwords').query(\n",
        "    query_embeddings=test_data_rag_input_text_saul_generated_reason_embeddings,\n",
        "    n_results=5,\n",
        ")"
      ],
      "metadata": {
        "id": "P_GCHg0xsFez"
      },
      "execution_count": null,
      "outputs": []
    },
    {
      "cell_type": "code",
      "source": [
        "cal_acc(rag_output_catchwords4['ids'], gold_citation)"
      ],
      "metadata": {
        "id": "2THrQGD_sd-o"
      },
      "execution_count": null,
      "outputs": []
    },
    {
      "cell_type": "markdown",
      "source": [
        "***RoC Aggregations (RoC generated by our SFT Saul-7B)***"
      ],
      "metadata": {
        "id": "mkN-JZeusW53"
      }
    },
    {
      "cell_type": "code",
      "source": [
        "rag_output_citation_reasons4 = client.get_collection('citation_reasons').query(\n",
        "    query_embeddings=test_data_rag_input_text_saul_generated_reason_embeddings,\n",
        "    n_results=5,\n",
        ")"
      ],
      "metadata": {
        "id": "NrjUGdZ5sg2n"
      },
      "execution_count": null,
      "outputs": []
    },
    {
      "cell_type": "code",
      "source": [
        "cal_acc(rag_output_citation_reasons4['ids'], gold_citation)"
      ],
      "metadata": {
        "id": "0RnCjRk_tMSE"
      },
      "execution_count": null,
      "outputs": []
    },
    {
      "cell_type": "markdown",
      "source": [
        "***Full Cases (RoC generated by our SFT Saul-7B)***"
      ],
      "metadata": {
        "id": "ZU68ZwFAsUNr"
      }
    },
    {
      "cell_type": "code",
      "source": [
        "rag_output_casetext4 = client.get_collection('casetext').query(\n",
        "    query_embeddings=test_data_rag_input_text_saul_generated_reason_embeddings,\n",
        "    n_results=5,\n",
        ")"
      ],
      "metadata": {
        "id": "dNmvDSAltQzr"
      },
      "execution_count": null,
      "outputs": []
    },
    {
      "cell_type": "code",
      "source": [
        "cal_acc(rag_output_casetext4['ids'], gold_citation)"
      ],
      "metadata": {
        "id": "y2PqmXBStTkd"
      },
      "execution_count": null,
      "outputs": []
    },
    {
      "cell_type": "markdown",
      "source": [
        "# **(Hybrid Approach) Voting Ensemble**"
      ],
      "metadata": {
        "id": "nAg068PvsFEo"
      }
    },
    {
      "cell_type": "code",
      "source": [
        "cal_acc_1(saul_pred_citation, gold_citation)"
      ],
      "metadata": {
        "id": "VtPgFB6NuKA-"
      },
      "execution_count": null,
      "outputs": []
    },
    {
      "cell_type": "code",
      "source": [
        "rag_output_citation_reasons4['ids'][0]"
      ],
      "metadata": {
        "id": "iX4O---Ewqhw"
      },
      "execution_count": null,
      "outputs": []
    },
    {
      "cell_type": "code",
      "source": [
        "agg_pred_citation = []\n",
        "num_valid_model_pred = 0\n",
        "num_agg_rag_pred = 0\n",
        "for i in range(len(saul_pred_citation)):\n",
        "    if saul_pred_citation[i] in rag_output_citation_reasons4['ids'][i]:\n",
        "        num_valid_model_pred += 1\n",
        "        agg_pred_citation.append(saul_pred_citation[i])\n",
        "    else:\n",
        "        num_agg_rag_pred += 1\n",
        "        agg_pred_citation.append(rag_output_citation_reasons4['ids'][i][0])"
      ],
      "metadata": {
        "id": "vKoKUIJHttXF"
      },
      "execution_count": null,
      "outputs": []
    },
    {
      "cell_type": "code",
      "source": [
        "num_valid_model_pred"
      ],
      "metadata": {
        "id": "DO8P3o0h-nCd"
      },
      "execution_count": null,
      "outputs": []
    },
    {
      "cell_type": "code",
      "source": [
        "num_agg_rag_pred"
      ],
      "metadata": {
        "id": "3-uL_tr3-kZR"
      },
      "execution_count": null,
      "outputs": []
    },
    {
      "cell_type": "code",
      "source": [
        "cal_acc_1(agg_pred_citation, gold_citation)"
      ],
      "metadata": {
        "id": "FMLLgdc3ueQ9"
      },
      "execution_count": null,
      "outputs": []
    },
    {
      "cell_type": "code",
      "source": [
        "num_agg_rag_pred"
      ],
      "metadata": {
        "id": "c_FITASow9UK"
      },
      "execution_count": null,
      "outputs": []
    },
    {
      "cell_type": "markdown",
      "source": [
        "# **(Hybrid Approach) RAG + GPT-4o Ranker**"
      ],
      "metadata": {
        "id": "34e4-OVotTOb"
      }
    },
    {
      "cell_type": "code",
      "source": [
        "catchwords_rank_sys_prompt = \"\"\"\n",
        "The following description belongs to a case in the NSW Case Law, but with a missing citation showing <CASENAME>. You will be given a brief text, 5 potential citations and their corresponding catchwords. Your task is to rank the 5 potential citations according to what is most likely to be the correct citation in the text. Show your ranking result in a list, separated by '\\n'.\n",
        "\"\"\"\n",
        "\n",
        "catchwords_prompt = \"\"\"\n",
        "Text:\n",
        "TEXT\n",
        "\n",
        "Potential Citations:\n",
        "\n",
        "CITATION1\n",
        "Catchwords: CATCHWORDS1\n",
        "\n",
        "CITATION2\n",
        "Catchwords: CATCHWORDS2\n",
        "\n",
        "CITATION3\n",
        "Catchwords: CATCHWORDS3\n",
        "\n",
        "CITATION4\n",
        "Catchwords: CATCHWORDS4\n",
        "\n",
        "CITATION5\n",
        "Catchwords: CATCHWORDS5\n",
        "\n",
        "\"\"\""
      ],
      "metadata": {
        "id": "Vm5w67tEvKAO"
      },
      "execution_count": null,
      "outputs": []
    },
    {
      "cell_type": "code",
      "source": [
        "roc_rank_sys_prompt = \"\"\"\n",
        "The following description belongs to a case in the NSW Case Law, but with a missing citation showing <CASENAME>. You will be given a brief text, 5 potential citations and their corresponding citation reasons. Your task is to rank the 5 potential citations according to what is most likely to be the correct citation in the text. Show your ranking result in a list, separated by '\\n'.\n",
        "\"\"\"\n",
        "\n",
        "roc_prompt = \"\"\"\n",
        "Text:\n",
        "TEXT\n",
        "\n",
        "Potential Citations:\n",
        "\n",
        "CITATION1\n",
        "Citation Reasons: CITATIONREASON1\n",
        "\n",
        "CITATION2\n",
        "Citation Reasons: CITATIONREASON2\n",
        "\n",
        "CITATION3\n",
        "Citation Reasons: CITATIONREASON3\n",
        "\n",
        "CITATION4\n",
        "Citation Reasons: CITATIONREASON4\n",
        "\n",
        "CITATION5\n",
        "Citation Reasons: CITATIONREASON5\n",
        "\n",
        "\"\"\""
      ],
      "metadata": {
        "id": "1XTcqtsZxL5o"
      },
      "execution_count": null,
      "outputs": []
    },
    {
      "cell_type": "code",
      "source": [
        "casetext_rank_sys_prompt = \"\"\"\n",
        "The following description belongs to a case in the NSW Case Law, but with a missing citation showing <CASENAME>. You will be given a brief text, 5 potential citations and their corresponding case text. Your task is to rank the 5 potential citations according to what is most likely to be the correct citation in the text. Show your ranking result in a list, separated by '\\n'.\n",
        "\"\"\"\n",
        "\n",
        "casetext_prompt = \"\"\"\n",
        "Text:\n",
        "INPUTTEXT\n",
        "\n",
        "Potential Citations:\n",
        "\n",
        "CITATION1\n",
        "Case Text: CASETEXT1\n",
        "\n",
        "CITATION2\n",
        "Case Text: CASETEXT2\n",
        "\n",
        "CITATION3\n",
        "Case Text: CASETEXT3\n",
        "\n",
        "CITATION4\n",
        "Case Text: CASETEXT4\n",
        "\n",
        "CITATION5\n",
        "Case Text: CASETEXT5\n",
        "\n",
        "\"\"\""
      ],
      "metadata": {
        "id": "bN7kE_SdvhNm"
      },
      "execution_count": null,
      "outputs": []
    },
    {
      "cell_type": "markdown",
      "source": [
        "**Catchwords**"
      ],
      "metadata": {
        "id": "Ltas-WlNwBH5"
      }
    },
    {
      "cell_type": "code",
      "source": [
        "ranked_citations_catchwords = []\n",
        "catchwords_retrieved_text_only_top_5_citations = rag_output_catchwords['ids']\n",
        "\n",
        "for i in tqdm(range(len(test_set))):\n",
        "    text = test_set[i]['citation_text'].replace(test_set[i]['cited_case_name'], '<CASENAME>')\n",
        "    citation1 = catchwords_retrieved_text_only_top_5_citations[i][0]\n",
        "    citation2 = catchwords_retrieved_text_only_top_5_citations[i][1]\n",
        "    citation3 = catchwords_retrieved_text_only_top_5_citations[i][2]\n",
        "    citation4 = catchwords_retrieved_text_only_top_5_citations[i][3]\n",
        "    citation5 = catchwords_retrieved_text_only_top_5_citations[i][4]\n",
        "    for dict in citation_data:\n",
        "        if dict['citation'] == citation1:\n",
        "            catchwords1 = dict['catchwords']\n",
        "        if dict['citation'] == citation2:\n",
        "            catchwords2 = dict['catchwords']\n",
        "        if dict['citation'] == citation3:\n",
        "            catchwords3 = dict['catchwords']\n",
        "        if dict['citation'] == citation4:\n",
        "            catchwords4 = dict['catchwords']\n",
        "        if dict['citation'] == citation5:\n",
        "            catchwords5 = dict['catchwords']\n",
        "    catchwords_prompt_input = catchwords_prompt.replace('TEXT', text).replace('CITATION1', citation1).replace('CITATION2', citation2).replace('CITATION3', citation3).replace('CITATION4', citation4).replace('CITATION5', citation5).replace('CATCHWORDS1', catchwords1).replace('CATCHWORDS2', catchwords2).replace('CATCHWORDS3', catchwords3).replace('CATCHWORDS4', catchwords4).replace('CATCHWORDS5', catchwords5)\n",
        "    response, cost = gpt4o_prompt(catchwords_rank_sys_prompt, catchwords_prompt_input)\n",
        "    ranked_citations_catchwords.append(response)"
      ],
      "metadata": {
        "id": "w_wAoKWMvRGz"
      },
      "execution_count": null,
      "outputs": []
    },
    {
      "cell_type": "code",
      "source": [
        "ranked_citations_catchwords_preds = [pred.split('\\n') for pred in ranked_citations_catchwords]\n",
        "cal_acc(ranked_citations_catchwords_preds, gold_citation)"
      ],
      "metadata": {
        "id": "sGYCRwzDwPNu"
      },
      "execution_count": null,
      "outputs": []
    },
    {
      "cell_type": "markdown",
      "source": [
        "**RoC Aggregations**"
      ],
      "metadata": {
        "id": "OMyPgYkXv8rf"
      }
    },
    {
      "cell_type": "code",
      "source": [
        "ranked_citations_citation_reasons = []\n",
        "citation_reasons_retrieved_text_only_top_5_citations = rag_output_citation_reasons['ids']\n",
        "\n",
        "for i in tqdm(range(len(test_set))):\n",
        "    text = test_set[i]['citation_text'].replace(test_set[i]['cited_case_name'], '<CASENAME>')\n",
        "    citation1 = citation_reasons_retrieved_text_only_top_5_citations[i][0]\n",
        "    citation2 = citation_reasons_retrieved_text_only_top_5_citations[i][1]\n",
        "    citation3 = citation_reasons_retrieved_text_only_top_5_citations[i][2]\n",
        "    citation4 = citation_reasons_retrieved_text_only_top_5_citations[i][3]\n",
        "    citation5 = citation_reasons_retrieved_text_only_top_5_citations[i][4]\n",
        "    for dict in citation_data:\n",
        "        if dict['citation'] == citation1:\n",
        "            citation_reasons1 = '; '.join(dict['citation_reasons'])\n",
        "        if dict['citation'] == citation2:\n",
        "            citation_reasons2 = '; '.join(dict['citation_reasons'])\n",
        "        if dict['citation'] == citation3:\n",
        "            citation_reasons3 = '; '.join(dict['citation_reasons'])\n",
        "        if dict['citation'] == citation4:\n",
        "            citation_reasons4 = '; '.join(dict['citation_reasons'])\n",
        "        if dict['citation'] == citation5:\n",
        "            citation_reasons5 = '; '.join(dict['citation_reasons'])\n",
        "    citation_reasons_prompt_input = roc_prompt.replace('TEXT', text).replace('CITATION1', citation1).replace('CITATION2', citation2).replace('CITATION3', citation3).replace('CITATION4', citation4).replace('CITATION5', citation5).replace('CITATIONREASON1', citation_reasons1).replace('CITATIONREASON2', citation_reasons2).replace('CITATIONREASON3', citation_reasons3).replace('CITATIONREASON4', citation_reasons4).replace('CITATIONREASON5', citation_reasons5)\n",
        "    response, cost = gpt4o_prompt(roc_rank_sys_prompt, citation_reasons_prompt_input)\n",
        "    ranked_citations_citation_reasons.append(response)"
      ],
      "metadata": {
        "id": "FXHhitkWthfk"
      },
      "execution_count": null,
      "outputs": []
    },
    {
      "cell_type": "code",
      "source": [
        "ranked_citations_citation_reasons_preds = [pred.split('\\n') for pred in ranked_citations_citation_reasons]\n",
        "cal_acc(ranked_citations_citation_reasons_preds, gold_citation)"
      ],
      "metadata": {
        "id": "la0TvvUjwK1a"
      },
      "execution_count": null,
      "outputs": []
    },
    {
      "cell_type": "markdown",
      "source": [
        "**Full Cases**"
      ],
      "metadata": {
        "id": "zWaKYE9Av7Sa"
      }
    },
    {
      "cell_type": "code",
      "source": [
        "ranked_citations_casetext = []\n",
        "casetext_retrieved_text_only_top_5_citations = rag_output_casetext['ids']\n",
        "\n",
        "for i in tqdm(range(len(test_set))):\n",
        "    text = test_set[i]['citation_text'].replace(test_set[i]['cited_case_name'], '<CASENAME>')\n",
        "    citation1 = casetext_retrieved_text_only_top_5_citations[i][0]\n",
        "    citation2 = casetext_retrieved_text_only_top_5_citations[i][1]\n",
        "    citation3 = casetext_retrieved_text_only_top_5_citations[i][2]\n",
        "    citation4 = casetext_retrieved_text_only_top_5_citations[i][3]\n",
        "    citation5 = casetext_retrieved_text_only_top_5_citations[i][4]\n",
        "    for dict in citation_data:\n",
        "        if dict['citation'] == citation1:\n",
        "            casetext1 = dict['text']\n",
        "        if dict['citation'] == citation2:\n",
        "            casetext2 = dict['text']\n",
        "        if dict['citation'] == citation3:\n",
        "            casetext3 = dict['text']\n",
        "        if dict['citation'] == citation4:\n",
        "            casetext4 = dict['text']\n",
        "        if dict['citation'] == citation5:\n",
        "            casetext5 = dict['text']\n",
        "    casetext_prompt_input = casetext_prompt.replace('INPUTTEXT', text).replace('CITATION1', citation1).replace('CITATION2', citation2).replace('CITATION3', citation3).replace('CITATION4', citation4).replace('CITATION5', citation5).replace('CASETEXT1', casetext1[:20000]).replace('CASETEXT2', casetext2[:20000]).replace('CASETEXT3', casetext3[:20000]).replace('CASETEXT4', casetext4[:20000]).replace('CASETEXT5', casetext5[:20000])\n",
        "    response, cost = gpt4o_mini_prompt(casetext_rank_sys_prompt, casetext_prompt_input)\n",
        "    ranked_citations_casetext.append(response)\n"
      ],
      "metadata": {
        "id": "X4OTT5LLvmRm"
      },
      "execution_count": null,
      "outputs": []
    },
    {
      "cell_type": "code",
      "source": [
        "ranked_citations_casetext_preds = [pred.split('\\n') for pred in ranked_citations_casetext]\n",
        "cal_acc(ranked_citations_casetext_preds, gold_citation)"
      ],
      "metadata": {
        "id": "PQCwQJVNwF87"
      },
      "execution_count": null,
      "outputs": []
    }
  ]
}